{
 "cells": [
  {
   "cell_type": "markdown",
   "id": "0b782fd5",
   "metadata": {},
   "source": [
    "# 1) Imports và cấu hình ban đầu"
   ]
  },
  {
   "cell_type": "code",
   "execution_count": null,
   "id": "5ff4e335",
   "metadata": {},
   "outputs": [],
   "source": [
    "from selenium import webdriver\n",
    "from selenium.webdriver.common.by import By\n",
    "from selenium.webdriver.chrome.service import Service\n",
    "from selenium.webdriver.chrome.options import Options\n",
    "from webdriver_manager.chrome import ChromeDriverManager\n",
    "import time, pandas as pd\n"
   ]
  },
  {
   "cell_type": "markdown",
   "id": "a4d82920",
   "metadata": {},
   "source": [
    "**selenium** / **webdriver**: thư viện điều khiển trình duyệt.\n",
    "\n",
    "**By**: enum để chỉ loại selector (By.CSS_SELECTOR, By.XPATH, ...).\n",
    "\n",
    "**Service + ChromeDriverManager: ChromeDriverManager().install()** sẽ tự tải binary chromedriver tương thích.\n",
    "\n",
    "**Options**: để set các flag cho Chrome.\n",
    "\n",
    "**time** dùng sleep, **pandas** để lưu dữ liệu vào DataFrame / Excel."
   ]
  },
  {
   "cell_type": "markdown",
   "id": "6b9ebc2f",
   "metadata": {},
   "source": []
  },
  {
   "cell_type": "markdown",
   "id": "7c3d7fd3",
   "metadata": {},
   "source": [
    "# 2) Cấu hình Chrome (opts)"
   ]
  },
  {
   "cell_type": "code",
   "execution_count": null,
   "id": "db1ba383",
   "metadata": {},
   "outputs": [],
   "source": [
    "opts = Options()\n",
    "# opts.add_argument(\"--headless\")   # uncomment nếu muốn chạy ẩn\n",
    "opts.add_argument(\"--no-sandbox\")\n",
    "opts.add_argument(\"--disable-dev-shm-usage\")\n",
    "opts.add_argument(\"--disable-blink-features=AutomationControlled\")\n",
    "opts.add_experimental_option(\"excludeSwitches\", [\"enable-automation\"])\n",
    "opts.add_experimental_option('useAutomationExtension', False)\n",
    "opts.add_argument(\"user-agent=Mozilla/5.0 ... Chrome/120.0.0.0 Safari/537.36\")\n"
   ]
  },
  {
   "cell_type": "markdown",
   "id": "8aa5e43f",
   "metadata": {},
   "source": [
    "**headless**: chạy không mở cửa sổ UI (bị comment).\n",
    "\n",
    "**--no-sandbox, --disable-dev-shm-usage**: thường dùng khi chạy trong container/Docker để tránh lỗi.\n",
    "\n",
    "**--disable-blink-features=AutomationControlled, excludeSwitches, useAutomationExtension**: cố gắng che bớt dấu hiệu trình duyệt bị điều khiển (chú ý: không đảm bảo 100%).\n",
    "\n",
    "**user-agent**: thay đổi user agent của trình duyệt để trông giống trình duyệt thực."
   ]
  },
  {
   "cell_type": "markdown",
   "id": "776d4f5a",
   "metadata": {},
   "source": []
  },
  {
   "cell_type": "markdown",
   "id": "522c9341",
   "metadata": {},
   "source": [
    "# 3) Khởi tạo webdriver"
   ]
  },
  {
   "cell_type": "code",
   "execution_count": null,
   "id": "4de8bd8c",
   "metadata": {},
   "outputs": [],
   "source": [
    "drv = webdriver.Chrome(service=Service(ChromeDriverManager().install()), options=opts)"
   ]
  },
  {
   "cell_type": "markdown",
   "id": "2518aa8f",
   "metadata": {},
   "source": [
    "**ChromeDriverManager().install()** tự tải chromedriver phù hợp.\n",
    "\n",
    "**drv** là instance(đối tượng) WebDriver dùng cho tất cả thao tác (get, find_element...)."
   ]
  },
  {
   "cell_type": "markdown",
   "id": "df4c9ef5",
   "metadata": {},
   "source": []
  },
  {
   "cell_type": "markdown",
   "id": "9579c7d9",
   "metadata": {},
   "source": [
    "# 4) Các URL category"
   ]
  },
  {
   "cell_type": "code",
   "execution_count": null,
   "id": "5c06b24d",
   "metadata": {},
   "outputs": [],
   "source": [
    "urls = {\n",
    "    \"Điện thoại\": \"https://www.lazada.vn/catalog/?q=điện%20thoại\",\n",
    "    \"Quần áo\": \"https://www.lazada.vn/catalog/?q=quần%20áo\",\n",
    "    \"Tủ lạnh\": \"https://www.lazada.vn/catalog/?q=tủ%20lạnh\",\n",
    "    \"Tivi\": \"https://www.lazada.vn/catalog/?q=ti%20vi\"\n",
    "}\n"
   ]
  },
  {
   "cell_type": "markdown",
   "id": "85252120",
   "metadata": {},
   "source": [
    "**urls** là dict mapping tên category -> URL tìm kiếm (đã mã hóa dấu cách bằng %20)."
   ]
  },
  {
   "cell_type": "markdown",
   "id": "b2c6670b",
   "metadata": {},
   "source": [
    "# 5) Hằng nhận diện icon sao"
   ]
  },
  {
   "cell_type": "code",
   "execution_count": null,
   "id": "c0fd8094",
   "metadata": {},
   "outputs": [],
   "source": [
    "FULL, HALF = \"Dy1nx\", \"JhbDv\"  # keyword nhận diện icon sao"
   ]
  },
  {
   "cell_type": "markdown",
   "id": "a05c94f9",
   "metadata": {},
   "source": [
    "2 chuỗi này là một phần trong class của thẻ icon sao (class bị obfuscated trên Lazada).\n",
    "\n",
    "**parse_rating** sẽ kiểm tra xem tên class có chứa chuỗi này để đếm sao đầy hoặc nửa sao.\n",
    "\n",
    "Chú ý: class obfuscated hay thay đổi => có thể không bền."
   ]
  },
  {
   "cell_type": "markdown",
   "id": "5e4aa7ef",
   "metadata": {},
   "source": [
    "# 6) Hàm cuộn trang"
   ]
  },
  {
   "cell_type": "code",
   "execution_count": null,
   "id": "f6a45bf4",
   "metadata": {},
   "outputs": [],
   "source": [
    "def scroll(times=4, pause=2):\n",
    "    last = drv.execute_script(\"return document.body.scrollHeight\")\n",
    "    for _ in range(times):\n",
    "        drv.execute_script(\"window.scrollTo(0, document.body.scrollHeight);\")\n",
    "        time.sleep(pause)\n",
    "        new = drv.execute_script(\"return document.body.scrollHeight\")\n",
    "        if new == last: break\n",
    "        last = new\n"
   ]
  },
  {
   "cell_type": "markdown",
   "id": "29892ee5",
   "metadata": {},
   "source": [
    "Lấy **document.body.scrollHeight** để biết chiều cao trang.\n",
    "\n",
    "Lặp **times** lần: cuộn xuống cuối trang, chờ **pause** giây để nội dung động load.\n",
    "\n",
    "Nếu chiều cao không tăng (không có nội dung mới) thì **break** sớm.\n",
    "\n",
    "Mục đích: kích hoạt lazy-load / infinite scroll để sản phẩm hiện ra."
   ]
  },
  {
   "cell_type": "markdown",
   "id": "a7258f00",
   "metadata": {},
   "source": [
    "# 7) Hàm parse_rating(p)"
   ]
  },
  {
   "cell_type": "code",
   "execution_count": null,
   "id": "bbc57ef4",
   "metadata": {},
   "outputs": [],
   "source": [
    "def parse_rating(p):\n",
    "    stars = p.find_elements(By.CSS_SELECTOR, \"i._9-ogB\")\n",
    "    if not stars: return \"N/A\"\n",
    "    full = sum(FULL in s.get_attribute(\"class\") for s in stars)\n",
    "    half = sum(HALF in s.get_attribute(\"class\") for s in stars)\n",
    "    return full + 0.5 * half if (full or half) else \"N/A\""
   ]
  },
  {
   "cell_type": "markdown",
   "id": "6b777b30",
   "metadata": {},
   "source": [
    "**p** là WebElement đại diện 1 sản phẩm.\n",
    "\n",
    "**find_elements(By.CSS_SELECTOR, \"i._9-ogB\")**: tìm tất cả icon sao (selector dựa trên class **_9-ogB**).\n",
    "\n",
    "Nếu không tìm thấy icon => trả **\"N/A\"**.\n",
    "\n",
    "Đếm số full stars: **FULL in class_attribute**.\n",
    "\n",
    "Đếm số half stars: **HALF in class_attribute**.\n",
    "\n",
    "Trả tổng điểm: **full + 0.5 * half**, hoặc **\"N/A\"** nếu cả hai đều 0.\n",
    "\n",
    "Giới hạn: nếu structure thay đổi hoặc icon không phải kiểu này thì kết quả sai."
   ]
  },
  {
   "cell_type": "markdown",
   "id": "0e4992d4",
   "metadata": {},
   "source": [
    "# 8) Hàm crawl_page(url, category, page_num)"
   ]
  },
  {
   "cell_type": "code",
   "execution_count": null,
   "id": "92a7e7b8",
   "metadata": {},
   "outputs": [],
   "source": [
    "def crawl_page(url, category, page_num):\n",
    "    page_url = url + f\"&page={page_num}\"\n",
    "    drv.get(page_url)\n",
    "    time.sleep(3)\n",
    "    scroll()\n",
    "\n",
    "    products = drv.find_elements(By.CSS_SELECTOR, \"div.Bm3ON\")\n",
    "    print(f\"[{category}] Page {page_num} -> {len(products)} sản phẩm\")\n",
    "    rows = []\n",
    "    for p in products:\n",
    "        try:\n",
    "            name = p.find_element(By.CSS_SELECTOR, \"div.RfADt a\").get_attribute(\"title\")\n",
    "        except: name = \"N/A\"\n",
    "\n",
    "        try: price = p.find_element(By.CSS_SELECTOR, \"span.ooOxS\").text\n",
    "        except: price = \"N/A\"\n",
    "\n",
    "        try: sold = p.find_element(By.XPATH, \".//span[contains(text(),'Đã bán')]\").text\n",
    "        except: sold = \"N/A\"\n",
    "\n",
    "        rating = parse_rating(p)\n",
    "\n",
    "        rows.append({\n",
    "            \"Category\": category,\n",
    "            \"Page\": page_num,\n",
    "            \"Name\": name,\n",
    "            \"Price\": price,\n",
    "            \"SoldCount\": sold,\n",
    "            \"Rating\": rating\n",
    "        })\n",
    "    return rows\n"
   ]
  },
  {
   "cell_type": "markdown",
   "id": "673d3013",
   "metadata": {},
   "source": [
    "**page_url** = url + f\"&page={page_num}\": nối thêm tham số page. (Ok vì url đã có ?q=....)\n",
    "\n",
    "**drv.get(page_url)**: mở trang.\n",
    "\n",
    "**time.sleep(3)**: đợi trang tải (có thể thay bằng WebDriverWait để chính xác hơn).\n",
    "\n",
    "**scroll()** để load thêm sản phẩm.\n",
    "\n",
    "**drv.find_elements(By.CSS_SELECTOR, \"div.Bm3ON\")**: lấy danh sách container mỗi sản phẩm (selector dựa trên class).\n",
    "\n",
    "Trong vòng lặp **for p in products**:\n",
    "\n",
    "**(**\n",
    "\n",
    "   Lấy **name**: tìm **div.RfADt** a rồi get_attribute(\"title\") (tên thường nằm ở attribute title).\n",
    "\n",
    "   Lấy **price**: **span.ooOxS.text**\n",
    "\n",
    "   Lấy **sold**: dùng **XPath** tìm span chứa chữ 'Đã bán'.\n",
    "\n",
    "   **rating = parse_rating(p)** -> gọi hàm phân tích sao.\n",
    "\n",
    "   Mỗi sản phẩm được lưu dưới dạng dict và append vào **rows**.\n",
    "   \n",
    "**)**\n",
    "\n",
    "Trả về **rows** (danh sách dict) cho page đó."
   ]
  },
  {
   "cell_type": "markdown",
   "id": "49872ea2",
   "metadata": {},
   "source": []
  },
  {
   "cell_type": "markdown",
   "id": "9e336cbe",
   "metadata": {},
   "source": [
    "# 9) Vòng lặp chính crawl 3 trang mỗi category"
   ]
  },
  {
   "cell_type": "code",
   "execution_count": null,
   "id": "55d5775f",
   "metadata": {},
   "outputs": [],
   "source": [
    "all_rows = []\n",
    "for cat, url in urls.items():\n",
    "    for page in range(1, 4):   # page 1 -> 3\n",
    "        all_rows.extend(crawl_page(url, cat, page))\n"
   ]
  },
  {
   "cell_type": "markdown",
   "id": "424f30ed",
   "metadata": {},
   "source": [
    "Vòng lặp này sẽ chạy page 1..3 cho mỗi category."
   ]
  },
  {
   "cell_type": "markdown",
   "id": "62ac3035",
   "metadata": {},
   "source": [
    "# 10) Lưu file Excel"
   ]
  },
  {
   "cell_type": "code",
   "execution_count": null,
   "id": "f869c585",
   "metadata": {},
   "outputs": [],
   "source": [
    "if all_rows:\n",
    "    df = pd.DataFrame(all_rows)\n",
    "    df.to_excel(\"lazada_products_pages.xlsx\", index=False)\n",
    "    print(\"✅ Lưu xong lazada_products_pages.xlsx\")\n",
    "else:\n",
    "    print(\"❌ Không lấy được dữ liệu\")"
   ]
  },
  {
   "cell_type": "markdown",
   "id": "3c503bd6",
   "metadata": {},
   "source": [
    "Nếu **all_rows** có dữ liệu thì tạo **DataFrame** và **to_excel**.\n",
    "\n",
    "**.to_excel** cần package **openpyxl** (pandas tự chọn engine nếu **.xlsx**).\n",
    "\n",
    "Tên file: **\"lazada_products_pages.xlsx\".**"
   ]
  },
  {
   "cell_type": "markdown",
   "id": "c020e6e7",
   "metadata": {},
   "source": []
  }
 ],
 "metadata": {
  "language_info": {
   "name": "python"
  }
 },
 "nbformat": 4,
 "nbformat_minor": 5
}
